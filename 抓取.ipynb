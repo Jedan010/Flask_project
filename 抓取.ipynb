{
 "cells": [
  {
   "cell_type": "code",
   "execution_count": 1,
   "metadata": {
    "collapsed": true
   },
   "outputs": [],
   "source": [
    "url = 'https://movie.douban.com/cinema/nowplaying/beijing/'\n",
    "\n",
    "from bs4 import BeautifulSoup\n",
    "import requests\n",
    "\n",
    "res = requests.get(url)\n",
    "soup = BeautifulSoup(res.text, 'lxml')\n",
    "\n",
    "now_playing = soup.find('div', id='nowplaying').find('ul', class_='lists').find_all('li',class_=\"list-item\")\n",
    "contents_NowPlaying = []\n",
    "for li in now_playing:\n",
    "    try:\n",
    "        content = {}\n",
    "        content['name'] = li.get('data-title')\n",
    "        content['score'] = li.get('data-score')\n",
    "        content['region'] = li.get('data-region')\n",
    "        content['release'] = li.get('data-release')\n",
    "        content['actors'] = li.get('data-actors')\n",
    "        content['duration'] = li.get('data-duration')\n",
    "        content['href'] = li.a.get('href')\n",
    "        content['img'] = li.img.get('src')    \n",
    "        contents_NowPlaying.append(content)\n",
    "    except:\n",
    "        print(li)\n",
    "\n",
    "data_NowPlaying = pd.DataFrame(contents_NowPlaying)\n",
    "\n",
    "upcoming = soup.find('div', id='upcoming').find_all('li', class_=\"list-item\")\n",
    "contents_UpComing = []\n",
    "for li in upcoming:\n",
    "    try:\n",
    "        content = {}\n",
    "        content['name'] = li.get('data-title')\n",
    "       #  content['score'] = li.get('data-score')\n",
    "        content['region'] = li.get('data-region')\n",
    "        content['release_date'] = li.find('li', class_=\"release-date\").get_text().replace(' ','').replace('\\n','')\n",
    "        content['actors'] = li.get('data-actors')\n",
    "        content['duration'] = li.get('data-duration')\n",
    "        content['href'] = li.a.get('href')\n",
    "        content['img'] = li.img.get('src')    \n",
    "        contents_UpComing.append(content)\n",
    "    except:\n",
    "        print(li)\n",
    "\n",
    "data_UpComing = pd.DataFrame(contents_UpComing)\n",
    "\n",
    "from sqlalchemy import create_engine\n",
    "\n",
    "engine = create_engine('sqlite:///data.sqlite')\n",
    "\n",
    "data_NowPlaying.to_sql('NowPlaying', engine, index=False, if_exists='replace')\n",
    "\n",
    "data_UpComing.to_sql('Upcoming', engine, index=False, if_exists='replace')"
   ]
  },
  {
   "cell_type": "code",
   "execution_count": null,
   "metadata": {},
   "outputs": [],
   "source": []
  }
 ],
 "metadata": {
  "kernelspec": {
   "display_name": "Python [conda root]",
   "language": "python",
   "name": "conda-root-py"
  },
  "language_info": {
   "codemirror_mode": {
    "name": "ipython",
    "version": 3
   },
   "file_extension": ".py",
   "mimetype": "text/x-python",
   "name": "python",
   "nbconvert_exporter": "python",
   "pygments_lexer": "ipython3",
   "version": "3.6.2"
  },
  "toc": {
   "nav_menu": {},
   "number_sections": true,
   "sideBar": true,
   "skip_h1_title": false,
   "toc_cell": false,
   "toc_position": {},
   "toc_section_display": "block",
   "toc_window_display": false
  },
  "varInspector": {
   "cols": {
    "lenName": 16.0,
    "lenType": 16.0,
    "lenVar": 40.0
   },
   "kernels_config": {
    "python": {
     "delete_cmd_postfix": "",
     "delete_cmd_prefix": "del ",
     "library": "var_list.py",
     "varRefreshCmd": "print(var_dic_list())"
    },
    "r": {
     "delete_cmd_postfix": ") ",
     "delete_cmd_prefix": "rm(",
     "library": "var_list.r",
     "varRefreshCmd": "cat(var_dic_list()) "
    }
   },
   "types_to_exclude": [
    "module",
    "function",
    "builtin_function_or_method",
    "instance",
    "_Feature"
   ],
   "window_display": false
  }
 },
 "nbformat": 4,
 "nbformat_minor": 2
}
